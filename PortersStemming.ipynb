{
  "nbformat": 4,
  "nbformat_minor": 0,
  "metadata": {
    "colab": {
      "provenance": [],
      "authorship_tag": "ABX9TyOSqUGf/S0IQG6bGBx5lDqL",
      "include_colab_link": true
    },
    "kernelspec": {
      "name": "python3",
      "display_name": "Python 3"
    },
    "language_info": {
      "name": "python"
    }
  },
  "cells": [
    {
      "cell_type": "markdown",
      "metadata": {
        "id": "view-in-github",
        "colab_type": "text"
      },
      "source": [
        "<a href=\"https://colab.research.google.com/github/Divyanshi-16/Information-Retrieval-1/blob/main/PortersStemming.ipynb\" target=\"_parent\"><img src=\"https://colab.research.google.com/assets/colab-badge.svg\" alt=\"Open In Colab\"/></a>"
      ]
    },
    {
      "cell_type": "markdown",
      "source": [
        "\n",
        "\n",
        "*   Name: Divyanshi Chauhan\n",
        "*   Roll No.: 21074012\n",
        "\n",
        "*   Discipline: Computer Science and Engineering(IDD)\n",
        "*   Use business.zip file to upload in the files section in google colab\n",
        "\n",
        "\n",
        "\n"
      ],
      "metadata": {
        "id": "9O-dX1SGaATl"
      }
    },
    {
      "cell_type": "code",
      "execution_count": null,
      "metadata": {
        "id": "yhRWsR37Pgl3",
        "colab": {
          "base_uri": "https://localhost:8080/"
        },
        "outputId": "85d4ba5e-3fac-4910-e0cb-693dd40db38b"
      },
      "outputs": [
        {
          "output_type": "stream",
          "name": "stdout",
          "text": [
            "Done\n"
          ]
        },
        {
          "output_type": "stream",
          "name": "stderr",
          "text": [
            "[nltk_data] Downloading package punkt to /root/nltk_data...\n",
            "[nltk_data]   Package punkt is already up-to-date!\n"
          ]
        },
        {
          "output_type": "stream",
          "name": "stdout",
          "text": [
            "Total unique words across all files: 1230393\n",
            "Total unique stemmed words across all files: 1153848\n"
          ]
        }
      ],
      "source": [
        "from zipfile import ZipFile\n",
        "\n",
        "file_name = \"/content/business.zip\"\n",
        "\n",
        "with ZipFile(file_name, 'r') as zip:\n",
        "    zip.extractall()\n",
        "    print('Done')\n",
        "import os\n",
        "from nltk.stem import PorterStemmer\n",
        "from nltk.tokenize import word_tokenize\n",
        "import nltk\n",
        "nltk.download('punkt')\n",
        "\n",
        "def apply_porter_stemmer(text):\n",
        "    stemmer = PorterStemmer()\n",
        "    words = word_tokenize(text)\n",
        "    stemmed_words = [stemmer.stem(word) for word in words]\n",
        "    return stemmed_words\n",
        "\n",
        "def compare_word_counts(original_words, stemmed_words):\n",
        "    unique_words = set(original_words)\n",
        "    unique_stemmed_words = set(stemmed_words)\n",
        "\n",
        "    return len(unique_words), len(unique_stemmed_words)\n",
        "\n",
        "def process_folder(folder_path):\n",
        "    total_unique_words = 0\n",
        "    total_unique_stemmed_words = 0\n",
        "\n",
        "    for filename in os.listdir(folder_path):\n",
        "        if filename.endswith(\".utf8\"):\n",
        "            file_path = os.path.join(folder_path, filename)\n",
        "            with open(file_path, 'r', encoding='utf-8') as file:\n",
        "                text = file.read()\n",
        "\n",
        "            # Apply Porter stemming\n",
        "            stemmed_words = apply_porter_stemmer(text)\n",
        "\n",
        "            # Compare word counts within the same file\n",
        "            unique_words, unique_stemmed_words = compare_word_counts(\n",
        "                word_tokenize(text), stemmed_words)\n",
        "\n",
        "            # Accumulate results\n",
        "            total_unique_words += unique_words\n",
        "            total_unique_stemmed_words += unique_stemmed_words\n",
        "\n",
        "    # Print final results\n",
        "    print(f\"Total unique words across all files: {total_unique_words}\")\n",
        "    print(f\"Total unique stemmed words across all files: {total_unique_stemmed_words}\")\n",
        "\n",
        "if __name__ == \"__main__\":\n",
        "    folder_path = '/content/business'\n",
        "    process_folder(folder_path)\n"
      ]
    }
  ]
}